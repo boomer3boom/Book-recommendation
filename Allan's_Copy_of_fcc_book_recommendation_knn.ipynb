{
  "cells": [
    {
      "cell_type": "markdown",
      "metadata": {
        "id": "uGd4NYQX1Rf_"
      },
      "source": [
        "*Note: You are currently reading this using Google Colaboratory which is a cloud-hosted version of Jupyter Notebook. This is a document containing both text cells for documentation and runnable code cells. If you are unfamiliar with Jupyter Notebook, watch this 3-minute introduction before starting this challenge: https://www.youtube.com/watch?v=inN8seMm7UI*\n",
        "\n",
        "---\n",
        "\n",
        "In this challenge, you will create a book recommendation algorithm using **K-Nearest Neighbors**.\n",
        "\n",
        "You will use the [Book-Crossings dataset](http://www2.informatik.uni-freiburg.de/~cziegler/BX/). This dataset contains 1.1 million ratings (scale of 1-10) of 270,000 books by 90,000 users. \n",
        "\n",
        "After importing and cleaning the data, use `NearestNeighbors` from `sklearn.neighbors` to develop a model that shows books that are similar to a given book. The Nearest Neighbors algorithm measures distance to determine the “closeness” of instances.\n",
        "\n",
        "Create a function named `get_recommends` that takes a book title (from the dataset) as an argument and returns a list of 5 similar books with their distances from the book argument.\n",
        "\n",
        "This code:\n",
        "\n",
        "`get_recommends(\"The Queen of the Damned (Vampire Chronicles (Paperback))\")`\n",
        "\n",
        "should return:\n",
        "\n",
        "```\n",
        "[\n",
        "  'The Queen of the Damned (Vampire Chronicles (Paperback))',\n",
        "  [\n",
        "    ['Catch 22', 0.793983519077301], \n",
        "    ['The Witching Hour (Lives of the Mayfair Witches)', 0.7448656558990479], \n",
        "    ['Interview with the Vampire', 0.7345068454742432],\n",
        "    ['The Tale of the Body Thief (Vampire Chronicles (Paperback))', 0.5376338362693787],\n",
        "    ['The Vampire Lestat (Vampire Chronicles, Book II)', 0.5178412199020386]\n",
        "  ]\n",
        "]\n",
        "```\n",
        "\n",
        "Notice that the data returned from `get_recommends()` is a list. The first element in the list is the book title passed in to the function. The second element in the list is a list of five more lists. Each of the five lists contains a recommended book and the distance from the recommended book to the book passed in to the function.\n",
        "\n",
        "If you graph the dataset (optional), you will notice that most books are not rated frequently. To ensure statistical significance, remove from the dataset users with less than 200 ratings and books with less than 100 ratings.\n",
        "\n",
        "The first three cells import libraries you may need and the data to use. The final cell is for testing. Write all your code in between those cells."
      ]
    },
    {
      "cell_type": "code",
      "execution_count": null,
      "metadata": {
        "id": "Y1onB6kUvo4Z"
      },
      "outputs": [],
      "source": [
        "# import libraries (you may add additional imports but you may not have to)\n",
        "import numpy as np\n",
        "import pandas as pd\n",
        "from scipy.sparse import csr_matrix\n",
        "from sklearn.neighbors import NearestNeighbors\n",
        "import matplotlib.pyplot as plt"
      ]
    },
    {
      "cell_type": "code",
      "execution_count": null,
      "metadata": {
        "id": "iAQGqqO_vo4d",
        "colab": {
          "base_uri": "https://localhost:8080/"
        },
        "outputId": "d6db91a4-a0ba-4678-ca15-88a8287f0bad"
      },
      "outputs": [
        {
          "output_type": "stream",
          "name": "stdout",
          "text": [
            "--2022-07-27 12:38:58--  https://cdn.freecodecamp.org/project-data/books/book-crossings.zip\n",
            "Resolving cdn.freecodecamp.org (cdn.freecodecamp.org)... 104.26.2.33, 104.26.3.33, 172.67.70.149, ...\n",
            "Connecting to cdn.freecodecamp.org (cdn.freecodecamp.org)|104.26.2.33|:443... connected.\n",
            "HTTP request sent, awaiting response... 200 OK\n",
            "Length: 26085508 (25M) [application/zip]\n",
            "Saving to: ‘book-crossings.zip’\n",
            "\n",
            "book-crossings.zip  100%[===================>]  24.88M  82.3MB/s    in 0.3s    \n",
            "\n",
            "2022-07-27 12:38:59 (82.3 MB/s) - ‘book-crossings.zip’ saved [26085508/26085508]\n",
            "\n",
            "Archive:  book-crossings.zip\n",
            "  inflating: BX-Book-Ratings.csv     \n",
            "  inflating: BX-Books.csv            \n",
            "  inflating: BX-Users.csv            \n"
          ]
        }
      ],
      "source": [
        "# get data files\n",
        "!wget https://cdn.freecodecamp.org/project-data/books/book-crossings.zip\n",
        "\n",
        "!unzip book-crossings.zip\n",
        "\n",
        "books_filename = 'BX-Books.csv'\n",
        "ratings_filename = 'BX-Book-Ratings.csv'"
      ]
    },
    {
      "cell_type": "code",
      "execution_count": null,
      "metadata": {
        "id": "NClILWOiEd6Q"
      },
      "outputs": [],
      "source": [
        "# import csv data into dataframes\n",
        "df_books = pd.read_csv(\n",
        "    books_filename,\n",
        "    encoding = \"ISO-8859-1\",\n",
        "    sep=\";\",\n",
        "    header=0,\n",
        "    names=['isbn', 'title', 'author'],\n",
        "    usecols=['isbn', 'title', 'author'],\n",
        "    dtype={'isbn': 'str', 'title': 'str', 'author': 'str'})\n",
        "\n",
        "df_ratings = pd.read_csv(\n",
        "    ratings_filename,\n",
        "    encoding = \"ISO-8859-1\",\n",
        "    sep=\";\",\n",
        "    header=0,\n",
        "    names=['user', 'isbn', 'rating'],\n",
        "    usecols=['user', 'isbn', 'rating'],\n",
        "    dtype={'user': 'int32', 'isbn': 'str', 'rating': 'float32'})"
      ]
    },
    {
      "cell_type": "markdown",
      "source": [
        "Exploring the data"
      ],
      "metadata": {
        "id": "HGvR3uIvFeqA"
      }
    },
    {
      "cell_type": "code",
      "source": [
        "#Look at the shape of df_ratings and the number of fields it have\n",
        "print(df_ratings.shape)\n",
        "print(list(df_ratings.columns))\n",
        "df_ratings.head()"
      ],
      "metadata": {
        "id": "qWZH_HybEfVx"
      },
      "execution_count": null,
      "outputs": []
    },
    {
      "cell_type": "code",
      "source": [
        "#Look at the kind of destribution we are working with\n",
        "plt.rc(\"font\", size=15)\n",
        "df_ratings.rating.value_counts(sort=False).plot(kind='bar')\n",
        "plt.title('Rating Distribution\\n')\n",
        "plt.xlabel('Rating')\n",
        "plt.ylabel('Count')\n",
        "plt.savefig('system1.png', bbox_inches='tight')\n",
        "plt.show()"
      ],
      "metadata": {
        "id": "cLFu36rNGLJS"
      },
      "execution_count": null,
      "outputs": []
    },
    {
      "cell_type": "code",
      "source": [
        "print(df_books.shape)\n",
        "print(list(df_books.columns))\n",
        "df_books.head()"
      ],
      "metadata": {
        "id": "rG9kiUOkGcTQ"
      },
      "execution_count": null,
      "outputs": []
    },
    {
      "cell_type": "code",
      "source": [
        "#Show the top books that has the highest number of rating\n",
        "rating_count = pd.DataFrame(df_ratings.groupby('isbn')['rating'].count())\n",
        "rating_count.sort_values('rating', ascending=False).head()"
      ],
      "metadata": {
        "colab": {
          "base_uri": "https://localhost:8080/",
          "height": 237
        },
        "id": "_pCs_zyoFgGe",
        "outputId": "5d0ab91a-c808-42d2-9b6d-92ff9d4f349c"
      },
      "execution_count": null,
      "outputs": [
        {
          "output_type": "execute_result",
          "data": {
            "text/plain": [
              "            rating\n",
              "isbn              \n",
              "0971880107    2502\n",
              "0316666343    1295\n",
              "0385504209     883\n",
              "0060928336     732\n",
              "0312195516     723"
            ],
            "text/html": [
              "\n",
              "  <div id=\"df-03d4d8c5-a613-40eb-adab-919cebc8701a\">\n",
              "    <div class=\"colab-df-container\">\n",
              "      <div>\n",
              "<style scoped>\n",
              "    .dataframe tbody tr th:only-of-type {\n",
              "        vertical-align: middle;\n",
              "    }\n",
              "\n",
              "    .dataframe tbody tr th {\n",
              "        vertical-align: top;\n",
              "    }\n",
              "\n",
              "    .dataframe thead th {\n",
              "        text-align: right;\n",
              "    }\n",
              "</style>\n",
              "<table border=\"1\" class=\"dataframe\">\n",
              "  <thead>\n",
              "    <tr style=\"text-align: right;\">\n",
              "      <th></th>\n",
              "      <th>rating</th>\n",
              "    </tr>\n",
              "    <tr>\n",
              "      <th>isbn</th>\n",
              "      <th></th>\n",
              "    </tr>\n",
              "  </thead>\n",
              "  <tbody>\n",
              "    <tr>\n",
              "      <th>0971880107</th>\n",
              "      <td>2502</td>\n",
              "    </tr>\n",
              "    <tr>\n",
              "      <th>0316666343</th>\n",
              "      <td>1295</td>\n",
              "    </tr>\n",
              "    <tr>\n",
              "      <th>0385504209</th>\n",
              "      <td>883</td>\n",
              "    </tr>\n",
              "    <tr>\n",
              "      <th>0060928336</th>\n",
              "      <td>732</td>\n",
              "    </tr>\n",
              "    <tr>\n",
              "      <th>0312195516</th>\n",
              "      <td>723</td>\n",
              "    </tr>\n",
              "  </tbody>\n",
              "</table>\n",
              "</div>\n",
              "      <button class=\"colab-df-convert\" onclick=\"convertToInteractive('df-03d4d8c5-a613-40eb-adab-919cebc8701a')\"\n",
              "              title=\"Convert this dataframe to an interactive table.\"\n",
              "              style=\"display:none;\">\n",
              "        \n",
              "  <svg xmlns=\"http://www.w3.org/2000/svg\" height=\"24px\"viewBox=\"0 0 24 24\"\n",
              "       width=\"24px\">\n",
              "    <path d=\"M0 0h24v24H0V0z\" fill=\"none\"/>\n",
              "    <path d=\"M18.56 5.44l.94 2.06.94-2.06 2.06-.94-2.06-.94-.94-2.06-.94 2.06-2.06.94zm-11 1L8.5 8.5l.94-2.06 2.06-.94-2.06-.94L8.5 2.5l-.94 2.06-2.06.94zm10 10l.94 2.06.94-2.06 2.06-.94-2.06-.94-.94-2.06-.94 2.06-2.06.94z\"/><path d=\"M17.41 7.96l-1.37-1.37c-.4-.4-.92-.59-1.43-.59-.52 0-1.04.2-1.43.59L10.3 9.45l-7.72 7.72c-.78.78-.78 2.05 0 2.83L4 21.41c.39.39.9.59 1.41.59.51 0 1.02-.2 1.41-.59l7.78-7.78 2.81-2.81c.8-.78.8-2.07 0-2.86zM5.41 20L4 18.59l7.72-7.72 1.47 1.35L5.41 20z\"/>\n",
              "  </svg>\n",
              "      </button>\n",
              "      \n",
              "  <style>\n",
              "    .colab-df-container {\n",
              "      display:flex;\n",
              "      flex-wrap:wrap;\n",
              "      gap: 12px;\n",
              "    }\n",
              "\n",
              "    .colab-df-convert {\n",
              "      background-color: #E8F0FE;\n",
              "      border: none;\n",
              "      border-radius: 50%;\n",
              "      cursor: pointer;\n",
              "      display: none;\n",
              "      fill: #1967D2;\n",
              "      height: 32px;\n",
              "      padding: 0 0 0 0;\n",
              "      width: 32px;\n",
              "    }\n",
              "\n",
              "    .colab-df-convert:hover {\n",
              "      background-color: #E2EBFA;\n",
              "      box-shadow: 0px 1px 2px rgba(60, 64, 67, 0.3), 0px 1px 3px 1px rgba(60, 64, 67, 0.15);\n",
              "      fill: #174EA6;\n",
              "    }\n",
              "\n",
              "    [theme=dark] .colab-df-convert {\n",
              "      background-color: #3B4455;\n",
              "      fill: #D2E3FC;\n",
              "    }\n",
              "\n",
              "    [theme=dark] .colab-df-convert:hover {\n",
              "      background-color: #434B5C;\n",
              "      box-shadow: 0px 1px 3px 1px rgba(0, 0, 0, 0.15);\n",
              "      filter: drop-shadow(0px 1px 2px rgba(0, 0, 0, 0.3));\n",
              "      fill: #FFFFFF;\n",
              "    }\n",
              "  </style>\n",
              "\n",
              "      <script>\n",
              "        const buttonEl =\n",
              "          document.querySelector('#df-03d4d8c5-a613-40eb-adab-919cebc8701a button.colab-df-convert');\n",
              "        buttonEl.style.display =\n",
              "          google.colab.kernel.accessAllowed ? 'block' : 'none';\n",
              "\n",
              "        async function convertToInteractive(key) {\n",
              "          const element = document.querySelector('#df-03d4d8c5-a613-40eb-adab-919cebc8701a');\n",
              "          const dataTable =\n",
              "            await google.colab.kernel.invokeFunction('convertToInteractive',\n",
              "                                                     [key], {});\n",
              "          if (!dataTable) return;\n",
              "\n",
              "          const docLinkHtml = 'Like what you see? Visit the ' +\n",
              "            '<a target=\"_blank\" href=https://colab.research.google.com/notebooks/data_table.ipynb>data table notebook</a>'\n",
              "            + ' to learn more about interactive tables.';\n",
              "          element.innerHTML = '';\n",
              "          dataTable['output_type'] = 'display_data';\n",
              "          await google.colab.output.renderOutput(dataTable, element);\n",
              "          const docLink = document.createElement('div');\n",
              "          docLink.innerHTML = docLinkHtml;\n",
              "          element.appendChild(docLink);\n",
              "        }\n",
              "      </script>\n",
              "    </div>\n",
              "  </div>\n",
              "  "
            ]
          },
          "metadata": {},
          "execution_count": 21
        }
      ]
    },
    {
      "cell_type": "code",
      "source": [
        "#Look at the average rating score for the books with highest number of rating\n",
        "average_rating = pd.DataFrame(df_ratings.groupby('isbn')['rating'].mean())\n",
        "average_rating['ratingCount'] = pd.DataFrame(df_ratings.groupby('isbn')['rating'].count())\n",
        "average_rating.sort_values('ratingCount', ascending=False).head()"
      ],
      "metadata": {
        "colab": {
          "base_uri": "https://localhost:8080/",
          "height": 237
        },
        "id": "4m-DZRp0Lo4G",
        "outputId": "18aca4f9-e1f4-4c32-d750-ec8193ec1e46"
      },
      "execution_count": null,
      "outputs": [
        {
          "output_type": "execute_result",
          "data": {
            "text/plain": [
              "              rating  ratingCount\n",
              "isbn                             \n",
              "0971880107  1.019584         2502\n",
              "0316666343  4.468726         1295\n",
              "0385504209  4.652322          883\n",
              "0060928336  3.448087          732\n",
              "0312195516  4.334716          723"
            ],
            "text/html": [
              "\n",
              "  <div id=\"df-4390254c-767c-4ed7-b821-d0e89bd8c081\">\n",
              "    <div class=\"colab-df-container\">\n",
              "      <div>\n",
              "<style scoped>\n",
              "    .dataframe tbody tr th:only-of-type {\n",
              "        vertical-align: middle;\n",
              "    }\n",
              "\n",
              "    .dataframe tbody tr th {\n",
              "        vertical-align: top;\n",
              "    }\n",
              "\n",
              "    .dataframe thead th {\n",
              "        text-align: right;\n",
              "    }\n",
              "</style>\n",
              "<table border=\"1\" class=\"dataframe\">\n",
              "  <thead>\n",
              "    <tr style=\"text-align: right;\">\n",
              "      <th></th>\n",
              "      <th>rating</th>\n",
              "      <th>ratingCount</th>\n",
              "    </tr>\n",
              "    <tr>\n",
              "      <th>isbn</th>\n",
              "      <th></th>\n",
              "      <th></th>\n",
              "    </tr>\n",
              "  </thead>\n",
              "  <tbody>\n",
              "    <tr>\n",
              "      <th>0971880107</th>\n",
              "      <td>1.019584</td>\n",
              "      <td>2502</td>\n",
              "    </tr>\n",
              "    <tr>\n",
              "      <th>0316666343</th>\n",
              "      <td>4.468726</td>\n",
              "      <td>1295</td>\n",
              "    </tr>\n",
              "    <tr>\n",
              "      <th>0385504209</th>\n",
              "      <td>4.652322</td>\n",
              "      <td>883</td>\n",
              "    </tr>\n",
              "    <tr>\n",
              "      <th>0060928336</th>\n",
              "      <td>3.448087</td>\n",
              "      <td>732</td>\n",
              "    </tr>\n",
              "    <tr>\n",
              "      <th>0312195516</th>\n",
              "      <td>4.334716</td>\n",
              "      <td>723</td>\n",
              "    </tr>\n",
              "  </tbody>\n",
              "</table>\n",
              "</div>\n",
              "      <button class=\"colab-df-convert\" onclick=\"convertToInteractive('df-4390254c-767c-4ed7-b821-d0e89bd8c081')\"\n",
              "              title=\"Convert this dataframe to an interactive table.\"\n",
              "              style=\"display:none;\">\n",
              "        \n",
              "  <svg xmlns=\"http://www.w3.org/2000/svg\" height=\"24px\"viewBox=\"0 0 24 24\"\n",
              "       width=\"24px\">\n",
              "    <path d=\"M0 0h24v24H0V0z\" fill=\"none\"/>\n",
              "    <path d=\"M18.56 5.44l.94 2.06.94-2.06 2.06-.94-2.06-.94-.94-2.06-.94 2.06-2.06.94zm-11 1L8.5 8.5l.94-2.06 2.06-.94-2.06-.94L8.5 2.5l-.94 2.06-2.06.94zm10 10l.94 2.06.94-2.06 2.06-.94-2.06-.94-.94-2.06-.94 2.06-2.06.94z\"/><path d=\"M17.41 7.96l-1.37-1.37c-.4-.4-.92-.59-1.43-.59-.52 0-1.04.2-1.43.59L10.3 9.45l-7.72 7.72c-.78.78-.78 2.05 0 2.83L4 21.41c.39.39.9.59 1.41.59.51 0 1.02-.2 1.41-.59l7.78-7.78 2.81-2.81c.8-.78.8-2.07 0-2.86zM5.41 20L4 18.59l7.72-7.72 1.47 1.35L5.41 20z\"/>\n",
              "  </svg>\n",
              "      </button>\n",
              "      \n",
              "  <style>\n",
              "    .colab-df-container {\n",
              "      display:flex;\n",
              "      flex-wrap:wrap;\n",
              "      gap: 12px;\n",
              "    }\n",
              "\n",
              "    .colab-df-convert {\n",
              "      background-color: #E8F0FE;\n",
              "      border: none;\n",
              "      border-radius: 50%;\n",
              "      cursor: pointer;\n",
              "      display: none;\n",
              "      fill: #1967D2;\n",
              "      height: 32px;\n",
              "      padding: 0 0 0 0;\n",
              "      width: 32px;\n",
              "    }\n",
              "\n",
              "    .colab-df-convert:hover {\n",
              "      background-color: #E2EBFA;\n",
              "      box-shadow: 0px 1px 2px rgba(60, 64, 67, 0.3), 0px 1px 3px 1px rgba(60, 64, 67, 0.15);\n",
              "      fill: #174EA6;\n",
              "    }\n",
              "\n",
              "    [theme=dark] .colab-df-convert {\n",
              "      background-color: #3B4455;\n",
              "      fill: #D2E3FC;\n",
              "    }\n",
              "\n",
              "    [theme=dark] .colab-df-convert:hover {\n",
              "      background-color: #434B5C;\n",
              "      box-shadow: 0px 1px 3px 1px rgba(0, 0, 0, 0.15);\n",
              "      filter: drop-shadow(0px 1px 2px rgba(0, 0, 0, 0.3));\n",
              "      fill: #FFFFFF;\n",
              "    }\n",
              "  </style>\n",
              "\n",
              "      <script>\n",
              "        const buttonEl =\n",
              "          document.querySelector('#df-4390254c-767c-4ed7-b821-d0e89bd8c081 button.colab-df-convert');\n",
              "        buttonEl.style.display =\n",
              "          google.colab.kernel.accessAllowed ? 'block' : 'none';\n",
              "\n",
              "        async function convertToInteractive(key) {\n",
              "          const element = document.querySelector('#df-4390254c-767c-4ed7-b821-d0e89bd8c081');\n",
              "          const dataTable =\n",
              "            await google.colab.kernel.invokeFunction('convertToInteractive',\n",
              "                                                     [key], {});\n",
              "          if (!dataTable) return;\n",
              "\n",
              "          const docLinkHtml = 'Like what you see? Visit the ' +\n",
              "            '<a target=\"_blank\" href=https://colab.research.google.com/notebooks/data_table.ipynb>data table notebook</a>'\n",
              "            + ' to learn more about interactive tables.';\n",
              "          element.innerHTML = '';\n",
              "          dataTable['output_type'] = 'display_data';\n",
              "          await google.colab.output.renderOutput(dataTable, element);\n",
              "          const docLink = document.createElement('div');\n",
              "          docLink.innerHTML = docLinkHtml;\n",
              "          element.appendChild(docLink);\n",
              "        }\n",
              "      </script>\n",
              "    </div>\n",
              "  </div>\n",
              "  "
            ]
          },
          "metadata": {},
          "execution_count": 17
        }
      ]
    },
    {
      "cell_type": "markdown",
      "source": [
        "Cleaning the data"
      ],
      "metadata": {
        "id": "A3YW9rbmOnzG"
      }
    },
    {
      "cell_type": "code",
      "execution_count": null,
      "metadata": {
        "id": "xAcXjkCFCh0A"
      },
      "outputs": [],
      "source": [
        "\"\"\"\n",
        "2 goals in cleaning the data to ensure statitical significance\n",
        "Goal 1: Excludes users that has given less than 200 ratings. This is done first.\n",
        "Goal 2: Excludes books that recieved less than 100 rating, inclusive of goal 1.\n",
        "\"\"\"\n",
        "#count the number of rating each user has given\n",
        "user_RatingCount = (df_ratings.\n",
        "     groupby('user')['rating'].\n",
        "     count().\n",
        "     reset_index().#reset the index\n",
        "     rename(columns = {'rating':'userTotalRatingCount'})\n",
        "    )\n",
        "\n",
        "#count the number of rating each book has recieved\n",
        "book_RatingCount = (df_ratings.\n",
        "     groupby('isbn')['rating'].\n",
        "     count().\n",
        "     reset_index().#reset the index\n",
        "     rename(columns = {'rating':'bookTotalRatingCount'})\n",
        "    )\n",
        "\n",
        "#merge the count of user and book as a new column in df_ratings\n",
        "df_ratings = df_ratings.merge(user_RatingCount,how='left', \n",
        "                              left_on='user', right_on='user')\n",
        "df_ratings = df_ratings.merge(book_RatingCount, how='left', \n",
        "                              left_on='isbn', right_on='isbn')\n",
        "\n",
        "#Get rid of users that has give less than 200 rating\n",
        "#Get rid of book that has recieved less than 100 rating\n",
        "df_ratings_2 =df_ratings.loc[(df_ratings['userTotalRatingCount']>=200) & \n",
        "                             (df_ratings['bookTotalRatingCount']>=100)]"
      ]
    },
    {
      "cell_type": "code",
      "source": [
        "\"\"\"\n",
        "Currently, df_ratings_2 contains the relationship between user and the book.\n",
        "And df_books contain detail about the book only. A new df needs to be created\n",
        "that contains both df's information\n",
        "\"\"\"\n",
        "#Join df_ratings_2 and df_books where isbn is the same\n",
        "books_with_ratings = pd.merge(df_ratings_2, df_books, on='isbn')\n",
        "\n",
        "#If a user have rated a book multiple time, drop that duplicate\n",
        "books_with_ratings_2 = books_with_ratings.drop_duplicates(['title', 'user'])"
      ],
      "metadata": {
        "id": "c131HhzBXZ-F"
      },
      "execution_count": null,
      "outputs": []
    },
    {
      "cell_type": "code",
      "source": [
        "\"\"\"\n",
        "Inorder to train the model, a matrix needs to be created such that the row \n",
        "contains the title of the book, the column is the user, and the values of each\n",
        "slot is the rating of the book given by the user. The matrix will be sparsed \n",
        "since not evert user has rated a book\n",
        "\"\"\"\n",
        "#Develop a table from the books_with_ratings_2 dataframe with the description\n",
        "books_with_ratings_pivot = books_with_ratings_2.pivot(\n",
        "    values='rating', index='title', columns='user').fillna(0)\n",
        "\n",
        "#Turn the table into a maxtrix.\n",
        "book_with_ratings_matrix = csr_matrix(books_with_ratings_pivot.values)"
      ],
      "metadata": {
        "id": "2pUR2B8Xw3w8"
      },
      "execution_count": null,
      "outputs": []
    },
    {
      "cell_type": "code",
      "source": [
        "\"\"\"\n",
        "Now we need to develop the model to and train it\n",
        "\"\"\"\n",
        "model_knn = NearestNeighbors(algorithm='auto', metric='cosine')\n",
        "model_knn.fit(book_with_ratings_matrix)\n",
        "NearestNeighbors(algorithm='auto', leaf_size=30, metric='cosine',\n",
        "                 metric_params=None, n_jobs=None, n_neighbors=5, p=2,\n",
        "                 radius=1.0)"
      ],
      "metadata": {
        "colab": {
          "base_uri": "https://localhost:8080/"
        },
        "id": "BjO_di8e9XA3",
        "outputId": "e68ba63e-a582-4928-c8df-c8c6d751ccb4"
      },
      "execution_count": null,
      "outputs": [
        {
          "output_type": "execute_result",
          "data": {
            "text/plain": [
              "NearestNeighbors(metric='cosine')"
            ]
          },
          "metadata": {},
          "execution_count": 12
        }
      ]
    },
    {
      "cell_type": "code",
      "execution_count": null,
      "metadata": {
        "id": "f5ZUd-L1SQz7"
      },
      "outputs": [],
      "source": [
        "# function to return recommended books - this will be tested\n",
        "def get_recommends(book = \"\"):\n",
        "  \"\"\"\n",
        "  returns the top few similar recommended books that the user has input\n",
        "  \"\"\"\n",
        "  #Find the book the player is refering to.\n",
        "  X = books_with_ratings_pivot[books_with_ratings_pivot.index == book]\n",
        "  \n",
        "  #turn our value into a numpy array in the shape of (1, auto)\n",
        "  X = X.to_numpy().reshape(1,-1)\n",
        "\n",
        "  #get the distance and index between the book and the recommendation\n",
        "  distances, indices = model_knn.kneighbors(X,n_neighbors=8)\n",
        "  recommended_books = []\n",
        "  for x in reversed(range(1,6)):\n",
        "      #flatten indices and distance into one list, and find the index \n",
        "      #information of each recommendation generated.\n",
        "      bookrecommended = [books_with_ratings_pivot.index\n",
        "                         [indices.flatten()[x]], distances.flatten()[x]]\n",
        "      recommended_books.append(bookrecommended)\n",
        "  recommended_books = [book, recommended_books]\n",
        "  \n",
        "  return recommended_books"
      ]
    },
    {
      "cell_type": "markdown",
      "metadata": {
        "id": "eat9A2TKawHU"
      },
      "source": [
        "Use the cell below to test your function. The `test_book_recommendation()` function will inform you if you passed the challenge or need to keep trying."
      ]
    },
    {
      "cell_type": "code",
      "execution_count": null,
      "metadata": {
        "id": "jd2SLCh8oxMh",
        "colab": {
          "base_uri": "https://localhost:8080/"
        },
        "outputId": "9d62a05a-b59e-4d18-bbd2-fb1d4615e9ba"
      },
      "outputs": [
        {
          "output_type": "stream",
          "name": "stdout",
          "text": [
            "[\"Where the Heart Is (Oprah's Book Club (Paperback))\", [[\"I'll Be Seeing You\", 0.8016211], ['The Weight of Water', 0.77085835], ['The Surgeon', 0.7699411], ['I Know This Much Is True', 0.7677075], ['The Lovely Bones: A Novel', 0.7234864]]]\n",
            "You passed the challenge! 🎉🎉🎉🎉🎉\n"
          ]
        }
      ],
      "source": [
        "books = get_recommends(\"Where the Heart Is (Oprah's Book Club (Paperback))\")\n",
        "print(books)\n",
        "\n",
        "def test_book_recommendation():\n",
        "  test_pass = True\n",
        "  recommends = get_recommends(\"Where the Heart Is (Oprah's Book Club (Paperback))\")\n",
        "  if recommends[0] != \"Where the Heart Is (Oprah's Book Club (Paperback))\":\n",
        "    test_pass = False\n",
        "  recommended_books = [\"I'll Be Seeing You\", 'The Weight of Water', 'The Surgeon', 'I Know This Much Is True']\n",
        "  recommended_books_dist = [0.8, 0.77, 0.77, 0.77]\n",
        "  for i in range(2): \n",
        "    if recommends[1][i][0] not in recommended_books:\n",
        "      test_pass = False\n",
        "    if abs(recommends[1][i][1] - recommended_books_dist[i]) >= 0.05:\n",
        "      test_pass = False\n",
        "  if test_pass:\n",
        "    print(\"You passed the challenge! 🎉🎉🎉🎉🎉\")\n",
        "  else:\n",
        "    print(\"You haven't passed yet. Keep trying!\")\n",
        "\n",
        "test_book_recommendation()"
      ]
    }
  ],
  "metadata": {
    "colab": {
      "collapsed_sections": [],
      "provenance": []
    },
    "kernelspec": {
      "display_name": "Python 3",
      "language": "python",
      "name": "python3"
    },
    "language_info": {
      "codemirror_mode": {
        "name": "ipython",
        "version": 3
      },
      "file_extension": ".py",
      "mimetype": "text/x-python",
      "name": "python",
      "nbconvert_exporter": "python",
      "pygments_lexer": "ipython3",
      "version": "3.6.5"
    }
  },
  "nbformat": 4,
  "nbformat_minor": 0
}